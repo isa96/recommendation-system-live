{
 "cells": [
  {
   "cell_type": "markdown",
   "id": "8737f918",
   "metadata": {},
   "source": [
    "# Skincare Recommendation System using Collaborative Filtering (Matrix Factorization)"
   ]
  },
  {
   "cell_type": "markdown",
   "id": "e94de1dd",
   "metadata": {},
   "source": [
    "## Introduction\n",
    "\n",
    "**Have you ever wondered how websites like Bukalapak are so good at suggesting products you might want, even before you start searching for them?**\n",
    "\n",
    "Well, the answer to this marvel lies in something called \"Recommendation Systems.\" These systems are like your shopping companions in the digital world, and they're pretty good at understanding your preferences and showing you things you'd love.\n",
    "\n",
    "Let's break it down a bit. Recommendation systems are like helpful friends who pay attention to what you look at, what you buy, and even what you put in your virtual shopping cart. They do this to get a sense of what you like. Then, using some clever math and algorithms, they suggest other products that you might find interesting. That's why you often see suggestions like \"People Also Bought\" or \"You Might Also Like.\"\n",
    "\n",
    "But how do these systems know what you'll like? That's what we'll explore **Collaborative filtering** is one of basic models for recommendation system which are based on assumption that people like things similar to other things they like, or things that are liked by other people which have similar taste with them.\n",
    "\n",
    "Let's dive into the fascinating world of product recommendations in e-commerce!"
   ]
  },
  {
   "cell_type": "markdown",
   "id": "46e4244f",
   "metadata": {},
   "source": [
    "<img src=\"assets/New Project.png\" width=\"600\" />"
   ]
  },
  {
   "cell_type": "markdown",
   "id": "37a4c87b",
   "metadata": {},
   "source": [
    "<div style=\"text-align:justify\">From the ilustration above, information given that Kiki (girl with black cat) likes to buy apple, banana, and watermelon. While Satsuki (girl with yellow shirt) likes to buy apple and banana. They have similar taste in apple and banana, so we can recommend Satsuki to buy watermelon.<br></div>\n",
    "In <b>collaborative filtering</b> method there are two approaches which can be implemented :<br>\n",
    "<b>1. Memory-based approach: </b>create recommendation system by calculated closest users or items using cosine similarity or pearson correlation coefficients.<br>\n",
    "<b>2. Model-based approach: </b>create recommendation system by given predict user's rating value of unrated items.<br>\n",
    "<br>\n",
    "<div style=\"text-align:justify\">In this notebook, I will create simply recommender system to recommend skincare product to the customers which have never buy before. I'll predict the unrated items using Singular Value Decomposition (SVD) of <b>Matrix Factorization</b> algorithm. The data used comes from scraping result in Femaledaily Website. Data contains information about review product given by customers. There are several attribut inside, for more details, let's check it out!</div>"
   ]
  },
  {
   "cell_type": "markdown",
   "id": "08df4995",
   "metadata": {},
   "source": [
    "### Library Preparation"
   ]
  },
  {
   "cell_type": "code",
   "execution_count": null,
   "id": "93fe55a4",
   "metadata": {},
   "outputs": [],
   "source": [
    "import pandas as pd\n",
    "import numpy as np\n",
    "from scipy.sparse.linalg import svds\n",
    "import matplotlib.pyplot as plt\n",
    "import seaborn as sns\n",
    "import recmetrics"
   ]
  },
  {
   "cell_type": "markdown",
   "id": "14711d75",
   "metadata": {},
   "source": [
    "### Data Preparation\n",
    "\n",
    "#### Read the Data"
   ]
  },
  {
   "cell_type": "code",
   "execution_count": null,
   "id": "d62d633c",
   "metadata": {},
   "outputs": [],
   "source": [
    "data = pd.read_csv(\"data_input/Skincare.csv\")\n",
    "data"
   ]
  },
  {
   "cell_type": "markdown",
   "id": "ef832a1a",
   "metadata": {},
   "source": [
    "#### Check and drop missing values"
   ]
  },
  {
   "cell_type": "code",
   "execution_count": null,
   "id": "08767a9c",
   "metadata": {},
   "outputs": [],
   "source": [
    "data.isna().sum()"
   ]
  },
  {
   "cell_type": "markdown",
   "id": "0a5c94ac",
   "metadata": {},
   "source": [
    "#### Rename Columns"
   ]
  },
  {
   "cell_type": "code",
   "execution_count": null,
   "id": "d8e8d01f",
   "metadata": {},
   "outputs": [],
   "source": [
    "# rename columns \n",
    "data.rename(columns={'Reviewer':'reviewer','Product':'product','Stars':'rating'}, inplace=True)"
   ]
  },
  {
   "cell_type": "markdown",
   "id": "5ec7fba3",
   "metadata": {},
   "source": [
    "#### Drop the reviewer with empty names"
   ]
  },
  {
   "cell_type": "code",
   "execution_count": null,
   "id": "643b7aea",
   "metadata": {},
   "outputs": [],
   "source": [
    "data = data[data['reviewer'] != ' ']"
   ]
  },
  {
   "cell_type": "code",
   "execution_count": null,
   "id": "ccce105a",
   "metadata": {},
   "outputs": [],
   "source": [
    "data"
   ]
  },
  {
   "cell_type": "markdown",
   "id": "7ebcef6d",
   "metadata": {},
   "source": [
    "## Data Exploration\n",
    "\n",
    "Since in the next step (modelling) we will define and create matrix based on Product X User, so we need to understanding about size of both unique product and user."
   ]
  },
  {
   "cell_type": "markdown",
   "id": "cdbb74ba",
   "metadata": {},
   "source": [
    "### Number of Unique Product"
   ]
  },
  {
   "cell_type": "code",
   "execution_count": null,
   "id": "db02dc7f",
   "metadata": {},
   "outputs": [],
   "source": [
    "uniq_product = data['product'].nunique()\n",
    "print(\"Number of uniq product :\",uniq_product)"
   ]
  },
  {
   "cell_type": "markdown",
   "id": "ec086284",
   "metadata": {},
   "source": [
    "Here above, product have 3297 unique number, this number will become number of columns matrix in modelling step."
   ]
  },
  {
   "cell_type": "markdown",
   "id": "e84c32b1",
   "metadata": {},
   "source": [
    "### Number of Unique Users"
   ]
  },
  {
   "cell_type": "code",
   "execution_count": null,
   "id": "3e104a60",
   "metadata": {},
   "outputs": [],
   "source": [
    "uniq_reviewer = data['reviewer'].nunique()\n",
    "print(\"Number of uniq users :\",uniq_reviewer)"
   ]
  },
  {
   "cell_type": "markdown",
   "id": "093d87b3",
   "metadata": {},
   "source": [
    "Here above, user have 22359 unique number, this number will become number of rows matrix in modelling step."
   ]
  },
  {
   "cell_type": "markdown",
   "id": "da8adeeb",
   "metadata": {},
   "source": [
    "### Distribution rating given by users"
   ]
  },
  {
   "cell_type": "code",
   "execution_count": null,
   "id": "6d732466",
   "metadata": {
    "scrolled": true
   },
   "outputs": [],
   "source": [
    "data['rating'].value_counts().plot(kind = 'bar', color = 'red')"
   ]
  },
  {
   "cell_type": "markdown",
   "id": "c509e760",
   "metadata": {},
   "source": [
    "From the visualization above, bar plot shown that users frequently give rating in 5 or 4, which mean that they are satisfied with the product."
   ]
  },
  {
   "cell_type": "markdown",
   "id": "a625b3b5",
   "metadata": {},
   "source": [
    "## Build Recommendation System\n",
    "\n",
    "### Matrix Factorization\n",
    "\n",
    "<div style=\"text-align:justify\">If you see the pivot matrix below, you will find that pivot matrix have so many zero value (missing value). Why did it happen? It can be happen because not every user give a rating in a every product, this condition called <b>sparse matrix.</b> Sparse matrix is limitation in collaborative filtering models, because sparse matrix gives bias information in our recommender system. There will be popularity bias in the recommendation given by the system to user, system will give recommends the product with the most interactions without any personalization.<br></div>\n",
    "<div style=\"text-align:justify\"><b>Matrix Factorization</b> is one way to handle those issue. Matrix factorization will breaking down of one matrix into a product of multiple matrices and give predictive rating in sparse matrix. Basic idea from matrix factorization is that attitudes or preferences of a user can be determined by a small number of hidden factors.<br></div>\n",
    "Illustration given below:"
   ]
  },
  {
   "cell_type": "markdown",
   "id": "9b9d24c2",
   "metadata": {},
   "source": [
    "<img src=\"assets/matrix.JPG\" width=\"600\" />"
   ]
  },
  {
   "cell_type": "markdown",
   "id": "d370d3e2",
   "metadata": {},
   "source": [
    "<div style=\"text-align:justify\">Intuitively, we can understand hidden factors for items and users from illustration above. Say that U is low dimensional matrix for Users features and V is low dimensional matrix for Product features. Every matrix values represent different characteristics about the users and the product. \n",
    "\n",
    "We can get the predictive ratings by calculate the dot product between matrix U and matrix V.</div>"
   ]
  },
  {
   "cell_type": "markdown",
   "id": "c2818fe4",
   "metadata": {},
   "source": [
    "### Singular Value Decomposition (SVD)"
   ]
  },
  {
   "attachments": {},
   "cell_type": "markdown",
   "id": "6bf8684e",
   "metadata": {},
   "source": [
    "<div style=\"text-align:justify\"><b>Singular Value Decomposition</b> is one of type Matrix Factorization. SVD algorithm will decomposes a matrix R into the best lower rank approximation of the original matrix R. Matematically SVD produce by the formula below :</div>\n",
    "<br>\n",
    "<div style=\"text-align:center\">$ R = U \\Sigma V^T $</div>\n",
    "<br>\n",
    "<div style=\"text-align:justify\">where U and V are orthogonal matrix with orthonormal eigenvectors and $\\sum$ is the diagonal matrix of singular values (essentially weights). The matrix can be factorized as :</div>\n",
    "\n",
    "<img src=\"assets/matrix_.jpg\" width=\"400\" />\n",
    "\n",
    "We can arrange eigenvectors in different orders to produce U and V."
   ]
  },
  {
   "cell_type": "markdown",
   "id": "1327548d",
   "metadata": {},
   "source": [
    "### Implementation Recommender System in Python Code\n",
    "\n",
    "#### 1. Create Matrix Pivot\n",
    "\n",
    "Create matrix pivot where the vertical value is users name, horizontal value is product name, and the value inside matrix is rating given by users."
   ]
  },
  {
   "cell_type": "code",
   "execution_count": null,
   "id": "e7d4fefb",
   "metadata": {
    "scrolled": true
   },
   "outputs": [],
   "source": [
    "matrix_pivot = pd.pivot_table(data, \n",
    "                              index = 'reviewer',\n",
    "                              columns = 'product',\n",
    "                              values = 'rating').fillna(0)\n",
    "matrix_pivot.head()"
   ]
  },
  {
   "cell_type": "markdown",
   "id": "22a514e0",
   "metadata": {},
   "source": [
    "#### 2. Normalize Rating Values\n",
    "\n",
    "❓ **Why we do need to normalize the rating?**\n",
    "\n",
    "Because it starts with the fact that people rate often on very different scales. Say that Kiki and Satsuki use a product B, and Kiki gives rating value 5 on that product, because Satsuki has a high standart she only gives 3 on that product. Here is, the 5 from Kiki is 3 from Satsuki. To make the model better is, we can increase the efficiency of this algorithm if we normalize user’s rating by substract rating value given by user in each product with mean rating in each product."
   ]
  },
  {
   "cell_type": "code",
   "execution_count": null,
   "id": "552875ea",
   "metadata": {},
   "outputs": [],
   "source": [
    "matrix_pivot_ = matrix_pivot.values\n",
    "user_ratings_mean = np.mean(matrix_pivot_, axis = 1)\n",
    "user_rating = matrix_pivot_ - user_ratings_mean.reshape(-1,1)"
   ]
  },
  {
   "cell_type": "code",
   "execution_count": null,
   "id": "d4319c96",
   "metadata": {
    "scrolled": true
   },
   "outputs": [],
   "source": [
    "pd.DataFrame(user_rating).head()"
   ]
  },
  {
   "cell_type": "markdown",
   "id": "609d26dd",
   "metadata": {},
   "source": [
    "#### 3. Singular Value Decomposition (SVD)\n",
    "\n",
    "Create matrix U and Vt using library scipy."
   ]
  },
  {
   "cell_type": "code",
   "execution_count": null,
   "id": "c5967672",
   "metadata": {},
   "outputs": [],
   "source": [
    "from scipy.sparse.linalg import svds\n",
    "U, sigma, Vt = svds(user_rating, k = 50)"
   ]
  },
  {
   "cell_type": "code",
   "execution_count": null,
   "id": "5810ecc1",
   "metadata": {},
   "outputs": [],
   "source": [
    "sigma = np.diag(sigma)"
   ]
  },
  {
   "cell_type": "markdown",
   "id": "a0c1e7df",
   "metadata": {},
   "source": [
    "#### 4. Create Predictive Rating\n",
    "\n",
    "After we get the value from decomposition matrix above, we can create product ratings predictions for every user. "
   ]
  },
  {
   "cell_type": "code",
   "execution_count": null,
   "id": "e8074a0e",
   "metadata": {},
   "outputs": [],
   "source": [
    "all_user_predicted_ratings = np.dot(np.dot(U, sigma), Vt) + user_ratings_mean.reshape(-1, 1)"
   ]
  },
  {
   "cell_type": "markdown",
   "id": "cc1d2541",
   "metadata": {},
   "source": [
    "And, here below matrix is result of predictive rating from each user in each product. "
   ]
  },
  {
   "cell_type": "code",
   "execution_count": null,
   "id": "9fe58004",
   "metadata": {},
   "outputs": [],
   "source": [
    "preds_df = pd.DataFrame(all_user_predicted_ratings, columns = matrix_pivot.columns, index=matrix_pivot.index)\n",
    "preds_df.head()"
   ]
  },
  {
   "cell_type": "markdown",
   "id": "b1e88efc",
   "metadata": {},
   "source": [
    "#### 5. Create Recommendation\n",
    "\n",
    "In this final step we will create recommendation product. I'll return the product with the 5 highest predicted rating that the user hasn’t already rated. "
   ]
  },
  {
   "cell_type": "code",
   "execution_count": null,
   "id": "14831105",
   "metadata": {},
   "outputs": [],
   "source": [
    "# step 1\n",
    "preds_df.loc['zzulia'].sort_values(ascending = False)"
   ]
  },
  {
   "cell_type": "code",
   "execution_count": null,
   "id": "98bc632e",
   "metadata": {
    "scrolled": true
   },
   "outputs": [],
   "source": [
    "# step 2\n",
    "user_data = data[data['reviewer'] == 'zzulia']\n",
    "user_data"
   ]
  },
  {
   "cell_type": "code",
   "execution_count": null,
   "id": "727eb862",
   "metadata": {},
   "outputs": [],
   "source": [
    "# step 3\n",
    "def recommend_product(predictions_df, user, data_,num_recommendations):\n",
    "    \n",
    "    user_row_number = user\n",
    "    # sorting bobot untuk product yang belum pernah di rate\n",
    "    sorted_user_predictions = predictions_df.loc[user_row_number].sort_values(ascending=False) # bobot tertinggi sudah terurut\n",
    "    \n",
    "    # menampilkan data historical dari pembelian user\n",
    "    user_data = data_[data_.reviewer == (user)]\n",
    "    user_full = user_data\n",
    "    \n",
    "    print('User {0} has already rated {1} product'.format(user, user_full.shape[0]))\n",
    "    a = data_.drop_duplicates(subset='product', keep='last')\n",
    "\n",
    "    # exclude product yang sudah dirate dari keseluruhan product\n",
    "    recommendations = (a[~a['product'].isin(user_full['product'])].\n",
    "         merge(pd.DataFrame(sorted_user_predictions).reset_index(), how = 'left',\n",
    "               left_on = 'product',\n",
    "               right_on = 'product').\n",
    "         rename(columns = {user_row_number: 'Predictions'}).\n",
    "         sort_values('Predictions', ascending = False).\n",
    "                       iloc[:num_recommendations, :-1]\n",
    "                      )\n",
    "    return user_full, recommendations"
   ]
  },
  {
   "cell_type": "markdown",
   "id": "8c58ba9a",
   "metadata": {},
   "source": [
    "Input the user id to whom you want recommend the product."
   ]
  },
  {
   "cell_type": "code",
   "execution_count": null,
   "id": "84a340ca",
   "metadata": {},
   "outputs": [],
   "source": [
    "user = str(input(\"Enter the user id to whom you want to recommend : \"))\n",
    "already_rated, predictions = recommend_product(preds_df, user, data, 5)"
   ]
  },
  {
   "cell_type": "markdown",
   "id": "0e3539c9",
   "metadata": {},
   "source": [
    "Result below shown that \"zzulia\" already rate 3 product. Twice for Facial Mask with different rating in each product, and once for Pembersih Two In One Bengkoang Whitening."
   ]
  },
  {
   "cell_type": "code",
   "execution_count": null,
   "id": "8e7a3cf2",
   "metadata": {
    "scrolled": true
   },
   "outputs": [],
   "source": [
    "already_rated"
   ]
  },
  {
   "cell_type": "markdown",
   "id": "b5ebea2c",
   "metadata": {},
   "source": [
    "<div style=\"text-align:justify\">And, here below 5 highest predicted rating from user id \"zzulia\". The recommendation system suggest \"zzulia\" to buy Prominent Essence Facial Mask, Facial Mask Bedak Dingin, Oil Control Mask, White Aqua Serum Sheet Mask, and Essential Vitamin. Suggested products are dominated with \"Mask\" product, because from historical data above \"zzulia\" already rate 2 product with category \"Mask.</div>"
   ]
  },
  {
   "cell_type": "code",
   "execution_count": null,
   "id": "8e42a7c6",
   "metadata": {},
   "outputs": [],
   "source": [
    "prod_pred = predictions['product']\n",
    "prod_pred"
   ]
  },
  {
   "cell_type": "markdown",
   "id": "59579a48",
   "metadata": {},
   "source": [
    "#### 6. Evaluation Criteria\n",
    "\n",
    "You can get the rating score of the recommended item and calculate the error instead.\n",
    "\n",
    "Mean Squared Error (MSE) and Root Mean Squared Error (RMSE) are used to evaluate the accuracy of predicted values that such as ratings compared to the true value, y. These can also be used to evalaute the reconstruction of a ratings matrix."
   ]
  },
  {
   "cell_type": "code",
   "execution_count": null,
   "id": "31e36675",
   "metadata": {},
   "outputs": [],
   "source": [
    "recmetrics.mse(preds_df, matrix_pivot)"
   ]
  }
 ],
 "metadata": {
  "kernelspec": {
   "display_name": "prod_rec",
   "language": "python",
   "name": "prod_rec"
  },
  "language_info": {
   "codemirror_mode": {
    "name": "ipython",
    "version": 3
   },
   "file_extension": ".py",
   "mimetype": "text/x-python",
   "name": "python",
   "nbconvert_exporter": "python",
   "pygments_lexer": "ipython3",
   "version": "3.10.13"
  }
 },
 "nbformat": 4,
 "nbformat_minor": 5
}
